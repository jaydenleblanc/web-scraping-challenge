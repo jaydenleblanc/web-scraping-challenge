{
 "cells": [
  {
   "cell_type": "code",
   "execution_count": 1,
   "metadata": {},
   "outputs": [],
   "source": [
    "#Dependencies\n",
    "from bs4 import BeautifulSoup\n",
    "import requests\n",
    "from splinter import Browser\n",
    "import pandas as pd"
   ]
  },
  {
   "cell_type": "code",
   "execution_count": 2,
   "metadata": {},
   "outputs": [],
   "source": [
    "#URL of page to be scraped\n",
    "url = 'https://mars.nasa.gov/news/?page=0&per_page=40&order=publish_date+desc%2Ccreated_at+desc&search=&category=19%2C165%2C184%2C204&blank_scope=Latest'"
   ]
  },
  {
   "cell_type": "code",
   "execution_count": 3,
   "metadata": {},
   "outputs": [],
   "source": [
    "# Retrieve page with the requests module\n",
    "response = requests.get(url)"
   ]
  },
  {
   "cell_type": "code",
   "execution_count": 4,
   "metadata": {},
   "outputs": [],
   "source": [
    "# Create Beautiful Soup object; parse with 'html.parser'\n",
    "soup = BeautifulSoup(response.text, 'html.parser')"
   ]
  },
  {
   "cell_type": "code",
   "execution_count": 5,
   "metadata": {},
   "outputs": [],
   "source": [
    "# Examine the results, then determine element that contains sought info\n",
    "#print(soup.prettify())"
   ]
  },
  {
   "cell_type": "code",
   "execution_count": 6,
   "metadata": {},
   "outputs": [],
   "source": [
    "# Extract the text of the body\n",
    "title = soup.title.text.strip()"
   ]
  },
  {
   "cell_type": "code",
   "execution_count": 7,
   "metadata": {},
   "outputs": [
    {
     "name": "stdout",
     "output_type": "stream",
     "text": [
      "NASA Readies Perseverance Mars Rover's Earthly Twin\n",
      "Did you know NASA's next Mars rover has a nearly identical sibling on Earth for testing? Even better, it's about to roll for the first time through a replica Martian landscape.\n"
     ]
    }
   ],
   "source": [
    "#Find the latest news title and paragraph\n",
    "news_title = soup.find(\"div\", class_='content_title').text.strip()\n",
    "print(news_title)\n",
    "\n",
    "news_paragraph = soup.find(\"div\", class_='rollover_description_inner').text.strip()\n",
    "print(news_paragraph)"
   ]
  },
  {
   "cell_type": "code",
   "execution_count": 8,
   "metadata": {},
   "outputs": [],
   "source": [
    "executable_path = {'executable_path': '/Users/jayde/chromedriver'}\n",
    "browser = Browser('chrome', **executable_path, headless=False)"
   ]
  },
  {
   "cell_type": "code",
   "execution_count": 9,
   "metadata": {},
   "outputs": [],
   "source": [
    "#Main URL to retrieve feautured image\n",
    "url_1 = 'https://www.jpl.nasa.gov/spaceimages/?search=&category=Mars'\n",
    "browser.visit(url_1)\n",
    "\n",
    "#HTML object\n",
    "html = browser.html\n"
   ]
  },
  {
   "cell_type": "code",
   "execution_count": 10,
   "metadata": {},
   "outputs": [],
   "source": [
    "#Use 'Full Image' link on main page to navigate to feautured image's url and then send a mouse click to open medium image\n",
    "medium_image = browser.links.find_by_partial_text('FULL IMAGE').click()"
   ]
  },
  {
   "cell_type": "code",
   "execution_count": 11,
   "metadata": {},
   "outputs": [],
   "source": [
    "#Use 'More Info' link on this page to navigate to the large image URL \n",
    "large_image = browser.links.find_by_partial_text('more info').click()"
   ]
  },
  {
   "cell_type": "code",
   "execution_count": 12,
   "metadata": {},
   "outputs": [],
   "source": [
    "#Use browsers current location to get the URL of the image in large size\n",
    "html = browser.html\n",
    "soup = BeautifulSoup(html, 'html.parser')\n",
    "\n",
    "results = soup.find_all('figure', class_='lede')\n",
    "#print(results)"
   ]
  },
  {
   "cell_type": "code",
   "execution_count": 13,
   "metadata": {},
   "outputs": [
    {
     "name": "stdout",
     "output_type": "stream",
     "text": [
      "https://www.jpl.nasa.gov/spaceimages/images/largesize/PIA16101_hires.jpg\n"
     ]
    }
   ],
   "source": [
    "#Grab partial path of image and then connect to complete URL\n",
    "partial_image_path = results[0].a['href']\n",
    "#print(partial_image_path)\n",
    "featured_image_url = 'https://www.jpl.nasa.gov' + partial_image_path\n",
    "print(featured_image_url)"
   ]
  },
  {
   "cell_type": "code",
   "execution_count": 14,
   "metadata": {},
   "outputs": [],
   "source": [
    "#Scrape the website for space facts and then create html table string using Pandas\n",
    "url_2 = 'https://space-facts.com/mars/'\n",
    "spacefacts_table = pd.read_html(url_2)\n",
    "#spacefacts_table"
   ]
  },
  {
   "cell_type": "code",
   "execution_count": 15,
   "metadata": {},
   "outputs": [],
   "source": [
    "spacefacts_df = spacefacts_table[0]\n",
    "spacefacts_df.columns=['description', 'value']\n",
    "#spacefacts_df"
   ]
  },
  {
   "cell_type": "code",
   "execution_count": 16,
   "metadata": {},
   "outputs": [],
   "source": [
    "#Convert dataframe to HTML table \n",
    "space_html_table = spacefacts_df.to_html()\n",
    "#space_html_table"
   ]
  },
  {
   "cell_type": "code",
   "execution_count": 17,
   "metadata": {},
   "outputs": [],
   "source": [
    "#Strip unwanted newlines to clean up table\n",
    "#space_html_table.replace('\\n','')"
   ]
  },
  {
   "cell_type": "code",
   "execution_count": 25,
   "metadata": {},
   "outputs": [],
   "source": [
    "#Mars Hemispheres\n",
    "url_3 = 'https://astrogeology.usgs.gov/search/results?q=hemisphere+enhanced&k1=target&v1=Mars'\n",
    "\n",
    "#Retrieve page with requests module\n",
    "response = requests.get(url_3)\n",
    "\n",
    "#Create Beautiful Soup object\n",
    "soup = BeautifulSoup(response.text, 'html.parser')\n",
    "\n",
    "#Examine results\n",
    "#print(soup.prettify())"
   ]
  },
  {
   "cell_type": "code",
   "execution_count": 19,
   "metadata": {},
   "outputs": [
    {
     "name": "stdout",
     "output_type": "stream",
     "text": [
      "['Cerberus Hemisphere Enhanced', 'Schiaparelli Hemisphere Enhanced', 'Syrtis Major Hemisphere Enhanced', 'Valles Marineris Hemisphere Enhanced']\n"
     ]
    }
   ],
   "source": [
    "#Get names for the hemispheres\n",
    "results = soup.find_all('div', class_=\"description\")\n",
    "#print(results)\n",
    "\n",
    "#List to contain hemisphere names\n",
    "hemisphere_names = []\n",
    "\n",
    "# Store each name ('h3' tag) // then append to hemisphere names list:\n",
    "hemi_1 = results[0].find('h3').text\n",
    "hemisphere_names.append(hemi_1)\n",
    "hemi_2 = results[1].find('h3').text\n",
    "hemisphere_names.append(hemi_2)\n",
    "hemi_3 = results[2].find('h3').text\n",
    "hemisphere_names.append(hemi_3)\n",
    "hemi_4 = results[3].find('h3').text\n",
    "hemisphere_names.append(hemi_4)\n",
    "\n",
    "\n",
    "print(hemisphere_names)"
   ]
  },
  {
   "cell_type": "code",
   "execution_count": 20,
   "metadata": {},
   "outputs": [
    {
     "name": "stdout",
     "output_type": "stream",
     "text": [
      "['https://astrogeology.usgs.gov/search/map/Mars/Viking/cerberus_enhanced', 'https://astrogeology.usgs.gov/search/map/Mars/Viking/schiaparelli_enhanced', 'https://astrogeology.usgs.gov/search/map/Mars/Viking/syrtis_major_enhanced', 'https://astrogeology.usgs.gov/search/map/Mars/Viking/valles_marineris_enhanced']\n"
     ]
    }
   ],
   "source": [
    "#Get thumbnail links and then add them to main URL for full address\n",
    "results_2 = soup.find_all('div', class_=\"item\")\n",
    "\n",
    "#Thumbnail array\n",
    "thumbnail_link = []\n",
    "\n",
    "#main url\n",
    "main_url = 'https://astrogeology.usgs.gov'\n",
    "\n",
    "thumb_1 = main_url + results_2[0].a['href']\n",
    "thumbnail_link.append(thumb_1)\n",
    "thumb_2 = main_url + results_2[1].a['href']\n",
    "thumbnail_link.append(thumb_2)\n",
    "thumb_3 = main_url + results_2[2].a['href']\n",
    "thumbnail_link.append(thumb_3)\n",
    "thumb_4 = main_url + results_2[3].a['href']\n",
    "thumbnail_link.append(thumb_4)\n",
    "\n",
    "print(thumbnail_link)"
   ]
  },
  {
   "cell_type": "code",
   "execution_count": 24,
   "metadata": {},
   "outputs": [
    {
     "name": "stdout",
     "output_type": "stream",
     "text": [
      "https://astrogeology.usgs.gov/search/map/Mars/Viking/cerberus_enhanced\n",
      "https://astrogeology.usgs.gov/search/map/Mars/Viking/schiaparelli_enhanced\n",
      "https://astrogeology.usgs.gov/search/map/Mars/Viking/syrtis_major_enhanced\n",
      "https://astrogeology.usgs.gov/search/map/Mars/Viking/valles_marineris_enhanced\n"
     ]
    }
   ],
   "source": [
    "for link in thumbnail_link:\n",
    "    print(link)"
   ]
  },
  {
   "cell_type": "code",
   "execution_count": 60,
   "metadata": {},
   "outputs": [],
   "source": [
    "#print(results_2)"
   ]
  },
  {
   "cell_type": "code",
   "execution_count": 54,
   "metadata": {},
   "outputs": [],
   "source": [
    "#Need to navigate to the thumbnail link and grab the full size image URL\n",
    "# Create a list to store the fullsize images' URLs\n",
    "\n",
    "soup_responses = []\n",
    "\n",
    "for link in thumbnail_link:\n",
    "    response = requests.get(link)\n",
    "    soup = BeautifulSoup(response.text, 'html.parser')\n",
    "    soup_responses.append(soup)\n",
    "#     print('This is the response:')\n",
    "#     print(\"**************************************************************************************************\")\n",
    "#     print(soup)"
   ]
  },
  {
   "cell_type": "code",
   "execution_count": 59,
   "metadata": {},
   "outputs": [],
   "source": [
    "# length = len(soup_responses)\n",
    "# print(length)\n",
    "\n",
    "# print(soup_responses)"
   ]
  },
  {
   "cell_type": "code",
   "execution_count": 58,
   "metadata": {},
   "outputs": [
    {
     "name": "stdout",
     "output_type": "stream",
     "text": [
      "https://astropedia.astrogeology.usgs.gov/download/Mars/Viking/cerberus_enhanced.tif/full.jpg\n",
      "https://astropedia.astrogeology.usgs.gov/download/Mars/Viking/schiaparelli_enhanced.tif/full.jpg\n",
      "https://astropedia.astrogeology.usgs.gov/download/Mars/Viking/syrtis_major_enhanced.tif/full.jpg\n",
      "https://astropedia.astrogeology.usgs.gov/download/Mars/Viking/valles_marineris_enhanced.tif/full.jpg\n"
     ]
    }
   ],
   "source": [
    "#Grab path for full size images\n",
    "\n",
    "results_link1 = soup_responses[0].find('div', class_=\"wide-image-wrapper\")\n",
    "full_image1 = results_link1.a['href']\n",
    "print(full_image1)\n",
    "\n",
    "results_link2 = soup_responses[1].find('div', class_=\"wide-image-wrapper\")\n",
    "full_image2 = results_link2.a['href']\n",
    "print(full_image2)\n",
    "\n",
    "results_link3 = soup_responses[2].find('div', class_=\"wide-image-wrapper\")\n",
    "full_image3 = results_link3.a['href']\n",
    "print(full_image3)\n",
    "\n",
    "results_link4 = soup_responses[3].find('div', class_=\"wide-image-wrapper\")\n",
    "full_image4 = results_link4.a['href']\n",
    "print(full_image4)"
   ]
  },
  {
   "cell_type": "code",
   "execution_count": null,
   "metadata": {},
   "outputs": [],
   "source": []
  }
 ],
 "metadata": {
  "kernelspec": {
   "display_name": "Python 3.6.10 64-bit ('PythonData': conda)",
   "language": "python",
   "name": "python361064bitpythondataconda080b6091286a4dcdb996756ff6ce465b"
  },
  "language_info": {
   "codemirror_mode": {
    "name": "ipython",
    "version": 3
   },
   "file_extension": ".py",
   "mimetype": "text/x-python",
   "name": "python",
   "nbconvert_exporter": "python",
   "pygments_lexer": "ipython3",
   "version": "3.6.10"
  }
 },
 "nbformat": 4,
 "nbformat_minor": 4
}
